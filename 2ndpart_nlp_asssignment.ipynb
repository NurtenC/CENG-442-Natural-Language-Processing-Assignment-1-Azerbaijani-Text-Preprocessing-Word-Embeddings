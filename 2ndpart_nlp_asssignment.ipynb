{
  "cells": [
    {
      "cell_type": "markdown",
      "metadata": {
        "id": "t6FfZ3nOjYJA"
      },
      "source": [
        "---\n",
        "**SECOND**\n",
        "---"
      ]
    },
    {
      "cell_type": "code",
      "execution_count": null,
      "metadata": {
        "colab": {
          "base_uri": "https://localhost:8080/"
        },
        "id": "aOylpnjQkdd_",
        "outputId": "771fc0a9-4d24-4078-8ad4-79eb04b14e22"
      },
      "outputs": [
        {
          "name": "stdout",
          "output_type": "stream",
          "text": [
            "Requirement already satisfied: gensim in /usr/local/lib/python3.12/dist-packages (4.4.0)\n",
            "Requirement already satisfied: pandas in /usr/local/lib/python3.12/dist-packages (2.2.2)\n",
            "Requirement already satisfied: pathlib in /usr/local/lib/python3.12/dist-packages (1.0.1)\n",
            "Requirement already satisfied: numpy>=1.18.5 in /usr/local/lib/python3.12/dist-packages (from gensim) (2.0.2)\n",
            "Requirement already satisfied: scipy>=1.7.0 in /usr/local/lib/python3.12/dist-packages (from gensim) (1.16.2)\n",
            "Requirement already satisfied: smart_open>=1.8.1 in /usr/local/lib/python3.12/dist-packages (from gensim) (7.4.1)\n",
            "Requirement already satisfied: python-dateutil>=2.8.2 in /usr/local/lib/python3.12/dist-packages (from pandas) (2.9.0.post0)\n",
            "Requirement already satisfied: pytz>=2020.1 in /usr/local/lib/python3.12/dist-packages (from pandas) (2025.2)\n",
            "Requirement already satisfied: tzdata>=2022.7 in /usr/local/lib/python3.12/dist-packages (from pandas) (2025.2)\n",
            "Requirement already satisfied: six>=1.5 in /usr/local/lib/python3.12/dist-packages (from python-dateutil>=2.8.2->pandas) (1.17.0)\n",
            "Requirement already satisfied: wrapt in /usr/local/lib/python3.12/dist-packages (from smart_open>=1.8.1->gensim) (2.0.0)\n"
          ]
        }
      ],
      "source": [
        "! pip install gensim pandas pathlib"
      ]
    },
    {
      "cell_type": "code",
      "execution_count": null,
      "metadata": {
        "id": "R8O8RR_hjXvt"
      },
      "outputs": [],
      "source": [
        "from gensim.models import Word2Vec, FastText\n",
        "import pandas as pd\n",
        "from pathlib import Path\n",
        "from google.colab import drive"
      ]
    },
    {
      "cell_type": "code",
      "execution_count": null,
      "metadata": {
        "colab": {
          "base_uri": "https://localhost:8080/"
        },
        "id": "NXBrPT62eJAg",
        "outputId": "82016754-ae1a-477b-a3b5-53304da7ceea"
      },
      "outputs": [
        {
          "name": "stdout",
          "output_type": "stream",
          "text": [
            "Drive already mounted at /content/drive; to attempt to forcibly remount, call drive.mount(\"/content/drive\", force_remount=True).\n"
          ]
        }
      ],
      "source": [
        "drive.mount('/content/drive')\n",
        "\n",
        "drive_path_cleaned = \"/content/drive/MyDrive/Colab Notebooks/nlp/Cleaned/\"\n",
        "drive_path_embeddings = \"/content/drive/MyDrive/Colab Notebooks/nlp/embeddings/\""
      ]
    },
    {
      "cell_type": "code",
      "execution_count": null,
      "metadata": {
        "id": "N5m8Kklbjh0x"
      },
      "outputs": [],
      "source": [
        "files = [\n",
        "    f\"{drive_path_cleaned}labeled-sentiment_2col.xlsx\",\n",
        "    f\"{drive_path_cleaned}test__1__2col.xlsx\",\n",
        "    f\"{drive_path_cleaned}train__3__2col.xlsx\",\n",
        "    f\"{drive_path_cleaned}train-00000-of-00001_2col.xlsx\",\n",
        "    f\"{drive_path_cleaned}merged_dataset_CSV__1__2col.xlsx\",\n",
        "]\n",
        "\n",
        "sentences = []\n",
        "\n",
        "for f in files:\n",
        "    df = pd.read_excel(f, usecols=[\"cleaned_text\"])\n",
        "    sentences.extend(df[\"cleaned_text\"].astype(str).str.split().tolist())\n"
      ]
    },
    {
      "cell_type": "code",
      "execution_count": null,
      "metadata": {
        "id": "y24fQT_SkHGf"
      },
      "outputs": [],
      "source": [
        "model_definer = \"v200w2min1neg5epoc10fastt3_9/\""
      ]
    },
    {
      "cell_type": "code",
      "execution_count": null,
      "metadata": {
        "colab": {
          "base_uri": "https://localhost:8080/"
        },
        "id": "YqgrtwVqJkVC",
        "outputId": "f9477726-7009-4776-a58f-a445c0f8b93c"
      },
      "outputs": [
        {
          "name": "stdout",
          "output_type": "stream",
          "text": [
            "Starting Word2Vec training... this may take a while.\n",
            "Word2Vec model saved successfully.\n"
          ]
        }
      ],
      "source": [
        "model_save_path = drive_path_embeddings + model_definer\n",
        "\n",
        "Path(model_save_path).mkdir(exist_ok=True)\n",
        "\n",
        "print(\"Starting Word2Vec training... this may take a while.\")\n",
        "\n",
        "w2v = Word2Vec(\n",
        "    sentences=sentences,\n",
        "    vector_size=200,\n",
        "    window=2,\n",
        "    min_count=1,\n",
        "    sg=1,\n",
        "    negative=5,\n",
        "    epochs=10,\n",
        "    workers=2,\n",
        "    seed=42\n",
        ")\n",
        "\n",
        "w2v.save(model_save_path + \"word2vec.model\")\n",
        "print(\"Word2Vec model saved successfully.\")"
      ]
    },
    {
      "cell_type": "code",
      "execution_count": null,
      "metadata": {
        "colab": {
          "base_uri": "https://localhost:8080/"
        },
        "id": "R-WM1D9bJoZ-",
        "outputId": "aa32dd42-23f1-4ff1-d9cc-478788826326"
      },
      "outputs": [
        {
          "name": "stdout",
          "output_type": "stream",
          "text": [
            "Starting FastText training... this may also take a while.\n",
            "FastText model saved successfully.\n"
          ]
        }
      ],
      "source": [
        "model_save_path = drive_path_embeddings + model_definer\n",
        "\n",
        "print(\"Starting FastText training... this may also take a while.\")\n",
        "\n",
        "ft = FastText(\n",
        "    sentences=sentences,\n",
        "    vector_size=200,\n",
        "    window=2,\n",
        "    min_count=1,\n",
        "    sg=1,\n",
        "    min_n=3,\n",
        "    max_n=9,\n",
        "    epochs=10,\n",
        "    workers=2,\n",
        "    seed=42,\n",
        ")\n",
        "\n",
        "ft.save(model_save_path + \"fasttext.model\")\n",
        "print(\"FastText model saved successfully.\")"
      ]
    }
  ],
  "metadata": {
    "colab": {
      "machine_shape": "hm",
      "provenance": []
    },
    "kernelspec": {
      "display_name": "Python 3",
      "name": "python3"
    },
    "language_info": {
      "name": "python"
    }
  },
  "nbformat": 4,
  "nbformat_minor": 0
}
