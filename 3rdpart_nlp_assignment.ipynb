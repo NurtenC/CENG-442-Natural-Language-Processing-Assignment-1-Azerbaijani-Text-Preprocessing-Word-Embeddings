{
  "nbformat": 4,
  "nbformat_minor": 0,
  "metadata": {
    "colab": {
      "provenance": [],
      "machine_shape": "hm"
    },
    "kernelspec": {
      "name": "python3",
      "display_name": "Python 3"
    },
    "language_info": {
      "name": "python"
    }
  },
  "cells": [
    {
      "cell_type": "code",
      "source": [
        "! pip install gensim pandas"
      ],
      "metadata": {
        "colab": {
          "base_uri": "https://localhost:8080/"
        },
        "id": "eoe-z4hss7Ku",
        "outputId": "3c8e64c5-7301-4c8e-90f3-b3f3fe5fd908"
      },
      "execution_count": null,
      "outputs": [
        {
          "output_type": "stream",
          "name": "stdout",
          "text": [
            "Requirement already satisfied: gensim in /usr/local/lib/python3.12/dist-packages (4.4.0)\n",
            "Requirement already satisfied: pandas in /usr/local/lib/python3.12/dist-packages (2.2.2)\n",
            "Requirement already satisfied: numpy>=1.18.5 in /usr/local/lib/python3.12/dist-packages (from gensim) (2.0.2)\n",
            "Requirement already satisfied: scipy>=1.7.0 in /usr/local/lib/python3.12/dist-packages (from gensim) (1.16.2)\n",
            "Requirement already satisfied: smart_open>=1.8.1 in /usr/local/lib/python3.12/dist-packages (from gensim) (7.4.1)\n",
            "Requirement already satisfied: python-dateutil>=2.8.2 in /usr/local/lib/python3.12/dist-packages (from pandas) (2.9.0.post0)\n",
            "Requirement already satisfied: pytz>=2020.1 in /usr/local/lib/python3.12/dist-packages (from pandas) (2025.2)\n",
            "Requirement already satisfied: tzdata>=2022.7 in /usr/local/lib/python3.12/dist-packages (from pandas) (2025.2)\n",
            "Requirement already satisfied: six>=1.5 in /usr/local/lib/python3.12/dist-packages (from python-dateutil>=2.8.2->pandas) (1.17.0)\n",
            "Requirement already satisfied: wrapt in /usr/local/lib/python3.12/dist-packages (from smart_open>=1.8.1->gensim) (2.0.0)\n"
          ]
        }
      ]
    },
    {
      "cell_type": "code",
      "execution_count": null,
      "metadata": {
        "id": "_O9sQAaF_Nz8"
      },
      "outputs": [],
      "source": [
        "import pandas as pd\n",
        "from gensim.models import Word2Vec, FastText\n",
        "import re\n",
        "from google.colab import drive"
      ]
    },
    {
      "cell_type": "code",
      "source": [
        "drive_path_cleaned = \"/content/drive/MyDrive/Colab Notebooks/nlp/Cleaned/\"\n",
        "drive_path_embeddings = \"/content/drive/MyDrive/Colab Notebooks/nlp/embeddings/\"\n",
        "\n",
        "drive.mount('/content/drive')\n",
        "\n",
        "model_definer = \"v200w2min1neg5epoc10fastt3_9/\"\n",
        "w2v = Word2Vec.load(drive_path_embeddings + model_definer + \"word2vec.model\")\n",
        "ft = FastText.load(drive_path_embeddings + model_definer+ \"fasttext.model\")"
      ],
      "metadata": {
        "colab": {
          "base_uri": "https://localhost:8080/"
        },
        "outputId": "a17e39e7-28c2-42b4-dfcc-97fbfffab726",
        "id": "4ugF3EhvTOd6"
      },
      "execution_count": null,
      "outputs": [
        {
          "output_type": "stream",
          "name": "stdout",
          "text": [
            "Drive already mounted at /content/drive; to attempt to forcibly remount, call drive.mount(\"/content/drive\", force_remount=True).\n"
          ]
        }
      ]
    },
    {
      "cell_type": "code",
      "source": [
        "seed_words = [\n",
        "    \"yaxşı\",\"pis\",\"çox\",\"bahalı\",\"ucuz\",\"mükəmməl\",\"dəhşət\",\"<PRICE>\",\"<RATING_POS>\"\n",
        "]\n",
        "\n",
        "syn_pairs = [(\"yaxşı\",\"əla\"), (\"bahalı\",\"qiymətli\"), (\"ucuz\",\"sərfəli\")]\n",
        "ant_pairs = [(\"yaxşı\",\"pis\"), (\"bahalı\",\"ucuz\")]\n"
      ],
      "metadata": {
        "id": "PHuj57G4_XH5"
      },
      "execution_count": null,
      "outputs": []
    },
    {
      "cell_type": "code",
      "source": [
        "def lexical_coverage(model, tokens):\n",
        "    vocab = model.wv.key_to_index\n",
        "    return sum(1 for t in tokens if t in vocab) / max(1, len(tokens))\n"
      ],
      "metadata": {
        "id": "LOzmBUPX_aJf"
      },
      "execution_count": null,
      "outputs": []
    },
    {
      "cell_type": "code",
      "source": [
        "files = [\n",
        "    f\"{drive_path_cleaned}labeled-sentiment_2col.xlsx\",\n",
        "    f\"{drive_path_cleaned}test__1__2col.xlsx\",\n",
        "    f\"{drive_path_cleaned}train__3__2col.xlsx\",\n",
        "    f\"{drive_path_cleaned}train-00000-of-00001_2col.xlsx\",\n",
        "    f\"{drive_path_cleaned}merged_dataset_CSV__1__2col.xlsx\",\n",
        "]\n",
        "\n",
        "def read_tokens(f):\n",
        "    df = pd.read_excel(f, usecols=[\"cleaned_text\"])\n",
        "    return [t for row in df[\"cleaned_text\"].astype(str) for t in row.split()]\n"
      ],
      "metadata": {
        "id": "_4CWtNhW_bEs"
      },
      "execution_count": null,
      "outputs": []
    },
    {
      "cell_type": "code",
      "source": [
        "print(\"== Lexical coverage (per dataset) ==\")\n",
        "for f in files:\n",
        "    toks = read_tokens(f)\n",
        "    cov_w2v = lexical_coverage(w2v, toks)\n",
        "    cov_ftv = lexical_coverage(ft, toks)\n",
        "    print(f\"{f}: W2V={cov_w2v:.3f}, FT(vocab)={cov_ftv:.3f}\")\n"
      ],
      "metadata": {
        "id": "MWFCidcP_fsa",
        "colab": {
          "base_uri": "https://localhost:8080/"
        },
        "outputId": "d4ec0dcf-8f58-4c25-ce3a-0411d915a909"
      },
      "execution_count": null,
      "outputs": [
        {
          "output_type": "stream",
          "name": "stdout",
          "text": [
            "== Lexical coverage (per dataset) ==\n",
            "/content/drive/MyDrive/Colab Notebooks/nlp/Cleaned/labeled-sentiment_2col.xlsx: W2V=1.000, FT(vocab)=1.000\n",
            "/content/drive/MyDrive/Colab Notebooks/nlp/Cleaned/test__1__2col.xlsx: W2V=1.000, FT(vocab)=1.000\n",
            "/content/drive/MyDrive/Colab Notebooks/nlp/Cleaned/train__3__2col.xlsx: W2V=1.000, FT(vocab)=1.000\n",
            "/content/drive/MyDrive/Colab Notebooks/nlp/Cleaned/train-00000-of-00001_2col.xlsx: W2V=1.000, FT(vocab)=1.000\n",
            "/content/drive/MyDrive/Colab Notebooks/nlp/Cleaned/merged_dataset_CSV__1__2col.xlsx: W2V=1.000, FT(vocab)=1.000\n"
          ]
        }
      ]
    },
    {
      "cell_type": "code",
      "source": [
        "vocab_size = len(ft.wv)\n",
        "print(f\"Vocabulary Size: {vocab_size}\")"
      ],
      "metadata": {
        "colab": {
          "base_uri": "https://localhost:8080/"
        },
        "id": "fHHe71xtbh4G",
        "outputId": "1e47b27c-6471-4511-a8ba-62894390d372"
      },
      "execution_count": null,
      "outputs": [
        {
          "output_type": "stream",
          "name": "stdout",
          "text": [
            "Vocabulary Size: 144459\n"
          ]
        }
      ]
    },
    {
      "cell_type": "code",
      "source": [
        "vocab_size = len(w2v.wv)\n",
        "print(f\"Vocabulary Size: {vocab_size}\")"
      ],
      "metadata": {
        "colab": {
          "base_uri": "https://localhost:8080/"
        },
        "id": "UpJM4HXFcZPV",
        "outputId": "2a7d424f-9271-44b0-dce9-fa3f8a9b9573"
      },
      "execution_count": null,
      "outputs": [
        {
          "output_type": "stream",
          "name": "stdout",
          "text": [
            "Vocabulary Size: 144459\n"
          ]
        }
      ]
    },
    {
      "cell_type": "code",
      "source": [
        "from numpy import dot\n",
        "from numpy.linalg import norm\n",
        "\n",
        "def cos(a, b):\n",
        "    return float(dot(a, b) / (norm(a) * norm(b)))\n",
        "\n",
        "def pair_sim(model, pairs):\n",
        "    vals = []\n",
        "    for a, b in pairs:\n",
        "        try:\n",
        "            vals.append(model.wv.similarity(a, b))\n",
        "        except KeyError:\n",
        "            pass\n",
        "    return sum(vals)/len(vals) if vals else float('nan')\n"
      ],
      "metadata": {
        "id": "Pfi5W1xA_gZF"
      },
      "execution_count": null,
      "outputs": []
    },
    {
      "cell_type": "code",
      "source": [
        "syn_w2v = pair_sim(w2v, syn_pairs)\n",
        "syn_ft  = pair_sim(ft,  syn_pairs)\n",
        "ant_w2v = pair_sim(w2v, ant_pairs)\n",
        "ant_ft  = pair_sim(ft,  ant_pairs)\n",
        "\n",
        "print(\"\\n== Similarity (higher better for synonyms; lower better for antonyms) ==\")\n",
        "print(f\"Synonyms: W2V={syn_w2v:.3f}, FT={syn_ft:.3f}\")\n",
        "print(f\"Antonyms: W2V={ant_w2v:.3f}, FT={ant_ft:.3f}\")\n",
        "print(f\"Separation (Syn - Ant): W2V={(syn_w2v - ant_w2v):.3f}, FT={(syn_ft - ant_ft):.3f}\")\n"
      ],
      "metadata": {
        "id": "YcdHY-99_iUf",
        "colab": {
          "base_uri": "https://localhost:8080/"
        },
        "outputId": "77c30852-ba66-469d-a15e-fd16a55e971d"
      },
      "execution_count": null,
      "outputs": [
        {
          "output_type": "stream",
          "name": "stdout",
          "text": [
            "\n",
            "== Similarity (higher better for synonyms; lower better for antonyms) ==\n",
            "Synonyms: W2V=0.592, FT=0.608\n",
            "Antonyms: W2V=0.490, FT=0.503\n",
            "Separation (Syn - Ant): W2V=0.101, FT=0.106\n"
          ]
        }
      ]
    },
    {
      "cell_type": "code",
      "source": [
        "def neighbors(model, word, k=5):\n",
        "    try:\n",
        "        return [w for w, _ in model.wv.most_similar(word, topn=k)]\n",
        "    except KeyError:\n",
        "        return []\n",
        "\n",
        "print(\"\\n== Nearest neighbors (qualitative) ==\")\n",
        "for w in seed_words:\n",
        "    print(f\" W2V NN for '{w}':\", neighbors(w2v, w))\n",
        "    print(f\" FT  NN for '{w}':\", neighbors(ft,  w))\n",
        "# (Optional) domain drift if you train domain-specific models separately:\n",
        "# drift(word, model_a, model_b) = 1 - cos(vec_a, vec_b)\n"
      ],
      "metadata": {
        "id": "U-C8-Q3Q_j8-",
        "colab": {
          "base_uri": "https://localhost:8080/"
        },
        "outputId": "b807ecbb-9ab2-4c60-b528-e6540dbf2da9"
      },
      "execution_count": null,
      "outputs": [
        {
          "output_type": "stream",
          "name": "stdout",
          "text": [
            "\n",
            "== Nearest neighbors (qualitative) ==\n",
            " W2V NN for 'yaxşı': ['<RATING_POS>', 'iyi', 'yaxşi', 'yaxshi', 'zor']\n",
            " FT  NN for 'yaxşı': ['yaxşıı', 'yaxşıfı', 'yaxşıkı', 'yaxşııdıı', 'yaxşıca']\n",
            " W2V NN for 'pis': ['<RATING_NEG>', 'bərbad', 'iyi', 'zay', 'berbat']\n",
            " FT  NN for 'pis': ['pispispis', 'pisdr', 'piss', 'piis', 'pissdii']\n",
            " W2V NN for 'çox': ['çoox', 'coox', 'temu', 'chox', 'bəyənirəm']\n",
            " FT  NN for 'çox': ['ççox', 'çoxçox', 'çoxx', 'çoh', 'ço']\n",
            " W2V NN for 'bahalı': ['acılı', 'nəhəng', 'kefiyyətsiz', 'növbələriniz', 'detallara']\n",
            " FT  NN for 'bahalı': ['bahalıı', 'bahalısı', 'baharlı', 'bahalıdı', 'bahaymış']\n",
            " W2V NN for 'ucuz': ['münasib', 'baha', 'qiymətə', 'qiymete', 'toyuğu']\n",
            " FT  NN for 'ucuz': ['ucuzlu', 'ucuzluk', 'ucuza', 'ucuzu', 'ucuzdu']\n",
            " W2V NN for 'mükəmməl': ['möhtəşəm', 'yararlı', 'süper', 'möhtəşəmm', 'süjetli']\n",
            " FT  NN for 'mükəmməl': ['mükəmməll', 'mükəmməldii', 'mükəmməldiçox', 'mükemməl', 'qeyrimükəmməl']\n",
            " W2V NN for 'dəhşət': ['hədsiz', 'çoox', 'gülməlidir', 'çoxx', 'kanaldır']\n",
            " FT  NN for 'dəhşət': ['dəhşətt', 'dəhşətdü', 'dəhşətdie', 'dəhşətizm', 'dəhşətiymiş']\n",
            " W2V NN for '<PRICE>': ['qəpik', 'kartdan', 'dollar', 'aylıq', 'azn']\n",
            " FT  NN for '<PRICE>': ['manatmıpul', 'manatdısa', 'manatdığ', 'manatlığ', 'manats']\n",
            " W2V NN for '<RATING_POS>': ['süper', 'yaxşi', 'superdir', 'əlverişli', 'əla']\n",
            " FT  NN for '<RATING_POS>': ['süperr', 'süper', 'zuperr', 'çooxxzorr', 'yaxşiliğa']\n"
          ]
        }
      ]
    },
    {
      "cell_type": "code",
      "source": [
        "w2v.wv.most_similar(\"<NUM>\", topn=7)"
      ],
      "metadata": {
        "id": "T8GFoHVnu2xz",
        "colab": {
          "base_uri": "https://localhost:8080/"
        },
        "outputId": "f8f223a2-5c20-4177-cc48-ce5c56bc195e"
      },
      "execution_count": null,
      "outputs": [
        {
          "output_type": "execute_result",
          "data": {
            "text/plain": [
              "[('gb', 0.6147559285163879),\n",
              " ('manata', 0.5996270775794983),\n",
              " ('kq', 0.5868653655052185),\n",
              " ('cü', 0.5773811936378479),\n",
              " ('lik', 0.5705621838569641),\n",
              " ('cu', 0.5645840167999268),\n",
              " ('tl', 0.563035249710083)]"
            ]
          },
          "metadata": {},
          "execution_count": 268
        }
      ]
    },
    {
      "cell_type": "code",
      "source": [
        "ft.wv.most_similar(\"yox\", topn=10)"
      ],
      "metadata": {
        "id": "T6SAepIoKU6N",
        "colab": {
          "base_uri": "https://localhost:8080/"
        },
        "outputId": "95b71694-6806-4db7-ad0e-1736d85f7cad"
      },
      "execution_count": null,
      "outputs": [
        {
          "output_type": "execute_result",
          "data": {
            "text/plain": [
              "[('yoxx', 0.9212023615837097),\n",
              " ('yoxh', 0.9197113513946533),\n",
              " ('yoxe', 0.8936871290206909),\n",
              " ('yoxmu', 0.8933278322219849),\n",
              " ('yoxmuw', 0.8917135000228882),\n",
              " ('yoxey', 0.8834620714187622),\n",
              " ('yoxtu', 0.8822392225265503),\n",
              " ('yoxdh', 0.8812844753265381),\n",
              " ('yoxd', 0.879164457321167),\n",
              " ('yoxdy', 0.8777079582214355)]"
            ]
          },
          "metadata": {},
          "execution_count": 269
        }
      ]
    },
    {
      "cell_type": "code",
      "source": [
        "ft.wv.most_similar(\"iyi\", topn=150)"
      ],
      "metadata": {
        "id": "i5E8I5fSvEaz",
        "colab": {
          "base_uri": "https://localhost:8080/"
        },
        "outputId": "01e9a59b-ef87-4b9e-b0ba-0091c3a88be2"
      },
      "execution_count": null,
      "outputs": [
        {
          "output_type": "execute_result",
          "data": {
            "text/plain": [
              "[('iyiyi', 0.9759093523025513),\n",
              " ('qdpiyi', 0.9243342280387878),\n",
              " ('piyi', 0.9237945079803467),\n",
              " ('pipiyi', 0.9190375208854675),\n",
              " ('ciyi', 0.9042347073554993),\n",
              " ('seudiyi', 0.8943328857421875),\n",
              " ('çekdiyi', 0.87161785364151),\n",
              " ('gijdiyi', 0.8693091869354248),\n",
              " ('eniyi', 0.8650492429733276),\n",
              " ('kiciyi', 0.8582351207733154),\n",
              " ('beşiyi', 0.8506500124931335),\n",
              " ('kesdiyi', 0.8475185036659241),\n",
              " ('sidiyi', 0.8467510938644409),\n",
              " ('incitdiyi', 0.8465353846549988),\n",
              " ('niyi', 0.8427123427391052),\n",
              " ('içeriyi', 0.8413795828819275),\n",
              " ('pubgiyi', 0.8397108316421509),\n",
              " ('qəbzdiyi', 0.8360980749130249),\n",
              " ('ıyi', 0.8360335826873779),\n",
              " ('dyi', 0.8314380645751953),\n",
              " ('cekdiyi', 0.8302986025810242),\n",
              " ('tilidiyi', 0.8299102783203125),\n",
              " ('əkdiyi', 0.8295677304267883),\n",
              " ('yi', 0.8284099102020264),\n",
              " ('kəsdiyi', 0.8278812170028687),\n",
              " ('fyi', 0.8266210556030273),\n",
              " ('etydiyi', 0.8260728120803833),\n",
              " ('tepkiyi', 0.8254333734512329),\n",
              " ('kecdiyi', 0.8204808235168457),\n",
              " ('kiçiyi', 0.820457398891449),\n",
              " ('endiyi', 0.8172851800918579),\n",
              " ('yediyi', 0.8150196671485901),\n",
              " ('şarkiyi', 0.8149353861808777),\n",
              " ('bitdiyi', 0.8146070837974548),\n",
              " ('gəzdiyi', 0.8111655116081238),\n",
              " ('eğitimciyi', 0.8107290863990784),\n",
              " ('geldiyi', 0.8089064955711365),\n",
              " ('pisliyi', 0.8081678748130798),\n",
              " ('gizlendiyi', 0.8079600930213928),\n",
              " ('seçdiyi', 0.8060225248336792),\n",
              " ('bezdiyi', 0.8029138445854187),\n",
              " ('gicliyi', 0.8012381196022034),\n",
              " ('tekniyi', 0.8004176616668701),\n",
              " ('heyfslendiyi', 0.7993962168693542),\n",
              " ('deşiyi', 0.7980707287788391),\n",
              " ('tikdiyi', 0.795673131942749),\n",
              " ('seyliyi', 0.7917729020118713),\n",
              " ('mindiyi', 0.7912769317626953),\n",
              " ('geyindiyi', 0.7896938920021057),\n",
              " ('geyliyi', 0.7892723679542542),\n",
              " ('qepiyi', 0.7880038619041443),\n",
              " ('pilisdiyi', 0.7863172888755798),\n",
              " ('besiyi', 0.7860063910484314),\n",
              " ('diridiyi', 0.7840415239334106),\n",
              " ('guvənliyi', 0.7815500497817993),\n",
              " ('itelediyi', 0.7808232307434082),\n",
              " ('ozelliyi', 0.7804042100906372),\n",
              " ('iyii', 0.779927670955658),\n",
              " ('liyi', 0.7788734436035156),\n",
              " ('yönəltdiyi', 0.7780701518058777),\n",
              " ('meşeliyi', 0.7769134044647217),\n",
              " ('sevdiyi', 0.7758119106292725),\n",
              " ('sehvliyi', 0.7743240594863892),\n",
              " ('dediyi', 0.7687212824821472),\n",
              " ('dəydiyi', 0.7684628963470459),\n",
              " ('cekildiyi', 0.7683425545692444),\n",
              " ('musuqiyi', 0.7668797373771667),\n",
              " ('özelliyi', 0.7626698017120361),\n",
              " ('işlediyi', 0.7622413039207458),\n",
              " ('isdmediyi', 0.7613716125488281),\n",
              " ('sildiyi', 0.7585867047309875),\n",
              " ('ciliyi', 0.7583500742912292),\n",
              " ('gözelliyi', 0.7571151256561279),\n",
              " ('elediyi', 0.7557129263877869),\n",
              " ('acizliyi', 0.7554299831390381),\n",
              " ('hekimliyi', 0.7484697103500366),\n",
              " ('bedbextliyi', 0.7478262782096863),\n",
              " ('cəkildiyi', 0.7477147579193115),\n",
              " ('duzəldiyi', 0.7475690841674805),\n",
              " ('qenaetliyi', 0.7466587424278259),\n",
              " ('tükəndiyi', 0.7459160685539246),\n",
              " ('iyisi', 0.7442348003387451),\n",
              " ('teriflediyi', 0.7441434860229492),\n",
              " ('birlesdiyi', 0.7425819039344788),\n",
              " ('getdiyi', 0.742492139339447),\n",
              " ('pişiyi', 0.7422816157341003),\n",
              " ('yetişdiyi', 0.7420522570610046),\n",
              " ('çökəkliyi', 0.7411834001541138),\n",
              " ('pülədiyi', 0.7406861782073975),\n",
              " ('isdediyi', 0.7403803467750549),\n",
              " ('ergenliyi', 0.7397781610488892),\n",
              " ('gorsendiyi', 0.7386524677276611),\n",
              " ('çeviriyi', 0.7380781769752502),\n",
              " ('xesdeliyi', 0.7376628518104553),\n",
              " ('qəpiyi', 0.7373427152633667),\n",
              " ('girdiyi', 0.7369720935821533),\n",
              " ('iliyi', 0.7363657355308533),\n",
              " ('getiyi', 0.7334131002426147),\n",
              " ('bişirdiyi', 0.7331862449645996),\n",
              " ('egemenliyi', 0.7329632043838501),\n",
              " ('gosderdiyi', 0.7326720356941223),\n",
              " ('itirdiyi', 0.7316979765892029),\n",
              " ('ilişdiyi', 0.7312899231910706),\n",
              " ('bərkliyi', 0.7303504943847656),\n",
              " ('kiçikliyi', 0.7282792925834656),\n",
              " ('litrliyi', 0.7280369997024536),\n",
              " ('gijdiyisis', 0.727942705154419),\n",
              " ('tikildiyi', 0.7277690172195435),\n",
              " ('əksikliyi', 0.7276418209075928),\n",
              " ('getirdiyi', 0.7275426983833313),\n",
              " ('əyriliyi', 0.7274330258369446),\n",
              " ('genisliyi', 0.7267719507217407),\n",
              " ('dincliyi', 0.7267141342163086),\n",
              " ('sadeliyi', 0.726287841796875),\n",
              " ('dərnliyi', 0.7262133359909058),\n",
              " ('itirildiyi', 0.7248647212982178),\n",
              " ('seriyi', 0.7245035171508789),\n",
              " ('mexfiliyi', 0.7242965698242188),\n",
              " ('gelinliyi', 0.7239692211151123),\n",
              " ('desiyi', 0.7236649990081787),\n",
              " ('kreativliyi', 0.7228136658668518),\n",
              " ('keçdiyi', 0.7218700051307678),\n",
              " ('ozəlliyi', 0.7208060622215271),\n",
              " ('gozelliyi', 0.7198827266693115),\n",
              " ('sefirliyi', 0.7196353077888489),\n",
              " ('hərisliyi', 0.7191319465637207),\n",
              " ('gösderildiyi', 0.7186517119407654),\n",
              " ('çirkinliyi', 0.7184873223304749),\n",
              " ('çirkliliyi', 0.7178530693054199),\n",
              " ('gönderidiyi', 0.7172677516937256),\n",
              " ('maviliyi', 0.7161287069320679),\n",
              " ('ferqliliyi', 0.7148105502128601),\n",
              " ('tekliyi', 0.7145488262176514),\n",
              " ('kesildiyini', 0.71309894323349),\n",
              " ('gozlədiyi', 0.7128742933273315),\n",
              " ('diyil', 0.7125906944274902),\n",
              " ('duzeltdiyi', 0.7121872901916504),\n",
              " ('iyrəncliyi', 0.7114286422729492),\n",
              " ('vəhşiliyi', 0.710305392742157),\n",
              " ('izlətdiyi', 0.7096518278121948),\n",
              " ('çevrildiyini', 0.7082204818725586),\n",
              " ('xoşbextliyi', 0.7061770558357239),\n",
              " ('sevdiyine', 0.7059990167617798),\n",
              " ('zenginliyi', 0.7051501870155334),\n",
              " ('sevmədiyi', 0.7049559950828552),\n",
              " ('sevdiyini', 0.7045729160308838),\n",
              " ('sfirliyi', 0.7043440341949463),\n",
              " ('kimliyi', 0.7039130926132202),\n",
              " ('kecerliliyi', 0.7035943865776062),\n",
              " ('moyi', 0.7031358480453491)]"
            ]
          },
          "metadata": {},
          "execution_count": 270
        }
      ]
    }
  ]
}